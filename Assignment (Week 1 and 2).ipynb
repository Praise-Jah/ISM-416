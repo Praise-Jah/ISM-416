{
 "cells": [
  {
   "cell_type": "markdown",
   "metadata": {},
   "source": [
    "# `Note:` All assignment should be done inside the notebook (Double tap on each of this text to edit)."
   ]
  },
  {
   "cell_type": "markdown",
   "metadata": {},
   "source": [
    "### `Question 1`: Write your full name and your   \n",
    "### Matriculation number\n",
    "\n",
    "Name: Orimolade Praise-Jah\n",
    "\n",
    "Matriculation Number: 17100310815"
   ]
  },
  {
   "cell_type": "markdown",
   "metadata": {},
   "source": [
    "### `Question 2`: What do you understand by natural language processing ?\n",
    "\n",
    "Answer: Natural Language Processing is defined as the language that helps computer's understand human's natural language. \n",
    "\n",
    "The short form for Natural Language Processing is NLP which can also be defines as a branch of artificial intelligence that focuses on the interaction between human beings and computers using the natural language. \n",
    "\n",
    "NLP's objective is to is to read, unravel, comprehend, and sort out the human languages in a way that is valuable. "
   ]
  },
  {
   "cell_type": "markdown",
   "metadata": {},
   "source": [
    "### `Question 3`: List some of the applications of natural language processing\n",
    "\n",
    "Some of the applications are;\n",
    "\n",
    "1 Sentiment Analysis: This helps recognize subtle nuances in emotions and opinions and therefore determine how negative or positive they are.\n",
    "\n",
    "2 Chatbots and Virtual Assistants: These are used for answering automatic questions and are designed in such that they can understand natural language.\n",
    "\n",
    "3 Text extraction: This automatically detects information in a text like names, places, companies and more.\n",
    "\n",
    "4 Text Summarization: Text summarization summarizes test by extracting the most important information. \n",
    "\n",
    "5 Auto-Correct: This uses tools like Grammarly to detect grammar, spelling, or sentence errors.\n",
    "\n",
    "6 Speech Recognition: Transforms spoken language into machine readable format."
   ]
  },
  {
   "cell_type": "markdown",
   "metadata": {},
   "source": [
    "### `Question 4`: What are some of the challenges of NLP?\n",
    "\n",
    "Some challenges of NLP are;\n",
    "\n",
    "1 Ambiguity: Natural language is very ambiguous. Therefore, the computer might might mistake an input for another thing or mistake the meaning of an input for another meaning. \n",
    "\n",
    "2 Data challenges: The main challenge is information overload, which poses a big problem to access a specific and important piece of information from vast datasets.\n",
    "\n",
    "3 The next challenge is the extraction of the relevant and correct information from unstructured or semi-structured data using Information Extraction (IE) techniques.\n",
    "\n",
    "4 Context and intent are also potential NLP challenges. Much of day-to-day speech relies heavily on contextual words and phrases, which are much harder for a machine to understand.\n",
    "\n",
    "5 Another issue that NLP has are with bots that rely only on spoken language."
   ]
  },
  {
   "cell_type": "markdown",
   "metadata": {},
   "source": [
    "### `Question 5`: Using some of the string operations learnt from this weeks topic (like: `set(), istitle(), split(), replace(), etc.`)\n",
    "### Declear 4 different strings (sentences) and apply the functions/methods."
   ]
  },
  {
   "cell_type": "markdown",
   "metadata": {},
   "source": [
    ">>>> # Have a wonderful week ahead."
   ]
  },
  {
   "cell_type": "code",
   "execution_count": 1,
   "metadata": {},
   "outputs": [
    {
     "name": "stdout",
     "output_type": "stream",
     "text": [
      "{'Bisi', 'James', 'Jane'}\n",
      "{'Apple', 'Mango', 'Banana'}\n",
      "{'Jumia', 'Amazon', 'Konga'}\n",
      "{'Australia', 'America', 'Nigeria'}\n"
     ]
    }
   ],
   "source": [
    "#The set function creates a set\n",
    "\n",
    "praiseset = set((\"Jane\", \"Bisi\", \"James\")) \n",
    "print(praiseset)\n",
    "praiseset = set((\"Banana\", \"Apple\", \"Mango\")) \n",
    "print(praiseset)\n",
    "praiseset = set((\"Jumia\", \"Konga\", \"Amazon\")) \n",
    "print(praiseset)\n",
    "praiseset = set((\"Nigeria\", \"America\", \"Australia\")) \n",
    "print(praiseset)"
   ]
  },
  {
   "cell_type": "code",
   "execution_count": null,
   "metadata": {},
   "outputs": [],
   "source": [
    "#The istitle checks if the letter of each word is capitalized\n",
    "\n",
    "Istitle1 = 'PRAISE.'\n",
    "print(Istitle1.istitle())\n",
    "\n",
    "Istitle2 = 'Flutter is okay'\n",
    "print(Istitle2.istitle())\n",
    "\n",
    "Istitle3 = '* Stands For Multiplication.'\n",
    "print(Istitle3.istitle())\n",
    "\n",
    "Istitle4 = 'Praise is 15.'\n",
    "print(Istitle4.istitle())\n",
    "\n",
    "Istitle5 = 'Praise Is Nice.'\n",
    "print(Istitle5.istitle())"
   ]
  }
 ],
 "metadata": {
  "kernelspec": {
   "display_name": "Python 3",
   "language": "python",
   "name": "python3"
  },
  "language_info": {
   "codemirror_mode": {
    "name": "ipython",
    "version": 3
   },
   "file_extension": ".py",
   "mimetype": "text/x-python",
   "name": "python",
   "nbconvert_exporter": "python",
   "pygments_lexer": "ipython3",
   "version": "3.8.5"
  }
 },
 "nbformat": 4,
 "nbformat_minor": 2
}
