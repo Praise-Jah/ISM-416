{
 "cells": [
  {
   "cell_type": "code",
   "execution_count": 4,
   "metadata": {},
   "outputs": [
    {
     "name": "stdout",
     "output_type": "stream",
     "text": [
      "['By Mahmut HamsiciBBC Turkish, Istanbul', 'The streets were crowded, the shopping centres busy and the traffic heavy.', 'Some flocked to the main bus terminal to get out of Istanbul, while others tried to stockpile alcohol amid news of a \"booze ban\". ', 'This was the mood in the hours before Turkey went into its first full pandemic lockdown, to curb a surge in infections and deaths.', 'WhatsApp groups have been dominated by messages about how life will be in the coming days.', 'This time last year, Turkey was seen as a success story for its early combative action and was even praised by the WHO. ', 'One year on, it is among the countries worst affected by Covid, with the highest infection rate in Europe.', \"Ankara is still proud of its relatively low total number of deaths, at around 39,000, and authorities say the pandemic is still under control, thanks to the country's strong healthcare system. But the spike in the number of cases is worrying.\", 'Following a second period of restrictions starting last November, the number of daily cases fell to around 6,000 at one point in mid-February.', 'But as soon as the government started to ease the restrictions in March, a new wave struck Turkey.', 'The government then U-turned to re-impose restrictions at the beginning of April. However, that was not enough to curb the spread of infections.', 'At its height in April, there were more than 60,000 new cases a day and more than 300 deaths.', 'According to critics, the government lifted restrictions too early and the vaccination process has not been fast enough.', 'More than 22 million vaccinations have been carried out, with 13.6 million people having received at least one dose in this country of 82 million.', 'Turkey mainly uses the Chinese Sinovac vaccine, as well as lower numbers of Pfizer-Biontech.', 'Health Minister Fahrettin Koca said recently: \"We have sped up vaccine diplomacy for the injections including Sinovac, Pfizer-Biontech and (Russia\\'s) Sputnik V\".', \"Another criticism was that President Recep Tayyip Erdogan's ruling AK Party organised packed congresses in March while many social gatherings, public protests were banned.\", 'Scientists also say the new variants, especially the UK (Kent) strain, have accelerated the infection rate.', 'Whatever the reason for the new wave, Mr Erdogan finally announced a full lockdown effective from Thursday evening until 17 May.', 'Many experts are happy with the new lockdown as they say it is necessary. ', 'However, some argue that the lockdown will not last long enough to combat the rise in cases and that it may not be very effective if it is not supported by a faster vaccination programme. Any measures should also provide economic support for low-income people, they believe.', 'Across Turkish society there is a determination to see the back of this most recent wave, and the government has a clear target.', 'President Erdogan has said: \"At a time when Europe is entering a phase of reopening, we must rapidly reduce our number of cases to fewer than 5,000, not to be left behind\".', 'The measures last throughout the rest of Ramadan and the Eid festival that follows it.', 'Last year Turkey saw a 70% fall in foreign visitors. The tourist industry hopes the lockdown will help enable a reopening in time for the summer season.', 'How will your work be affected by the lockdown in Turkey? Tell us by emailing: haveyoursay@bbc.co.uk.', 'Please include a contact number if you are willing to speak to a BBC journalist. You can also get in touch in the following ways:', \"If you are reading this page and can't see the form you will need to visit the mobile version of the BBC website to submit your question or comment or you can email us at HaveYourSay@bbc.co.uk. Please include your name, age and location with any submission. \", \"2020 and me: 'I know the value of family more'\", 'How India descended into Covid-19 chaos', \"Experts tell the BBC that delays in decision-making worsened the crisis of India's second wave.\", 'Facebook Oversight Board to rule on Trump ban', 'Atlantic row â\\x80\\x98the hardest thing Iâ\\x80\\x99ve ever doneâ\\x80\\x99 VideoAtlantic row â\\x80\\x98the hardest thing Iâ\\x80\\x99ve ever doneâ\\x80\\x99', \"India is a Covid disaster - it didn't have to be\", \"Napoleon's incendiary legacy still divides France\", \"The newborn calf that 'crashed our wedding' VideoThe newborn calf that 'crashed our wedding'\", 'Mysterious brain disease in Canada baffles doctors', 'The company where colleagues decide your salary', 'Covid cases at Everest raise fears of outbreak', 'Then and now: Restoring coral reefs in Indonesia. VideoThen and now: Restoring coral reefs in Indonesia', 'Atlantic row â\\x80\\x98the hardest thing Iâ\\x80\\x99ve ever doneâ\\x80\\x99 VideoAtlantic row â\\x80\\x98the hardest thing Iâ\\x80\\x99ve ever doneâ\\x80\\x99', 'Gates divorce puts spotlight on their foundation', 'Lyrics quiz', 'Have you been getting these songs wrong?', 'Feeling hot', 'What happens to your body in extreme heat?', \"Trump launches new 'communications' platform1\", \"India is a Covid disaster - it didn't have to be2\", 'George Floyd killer asks for new trial3', 'Reused Covid nose swab scam busted at airport4', 'Mysterious brain disease in Canada baffles doctors5', 'Belgian farmer accidentally moves French border6', 'Madrid leader defeats left in bitter Spanish vote7', 'Covid cases at Everest raise fears of outbreak8', 'Whatâ\\x80\\x99s going on in this picture of two US presidents?9', \"Napoleon's incendiary legacy still divides France10\", 'Â© 2021 BBC. The BBC is not responsible for the content of external sites. Read about our approach to external linking.']\n"
     ]
    }
   ],
   "source": [
    "def scrapper (url):\n",
    "    import requests\n",
    "    from bs4 import BeautifulSoup\n",
    "    import gensim\n",
    "    import docx\n",
    "    url = 'https://www.bbc.com/news/world-europe-56912668'\n",
    "    page = requests.get(url).text\n",
    "    soup = BeautifulSoup(page)\n",
    "    header = soup.find('h1').get_text()\n",
    "    header2 = 'Summary'\n",
    "    time = soup.find('time', attrs={'data-testid':'timestamp'}).get_text()\n",
    "    time\n",
    "    p_tags = soup.find_all('p')\n",
    "    text = [tags.get_text() for tags in p_tags]\n",
    "    print(text)\n",
    "    sentence_list = [sentence for sentence in text if not '\\n' in sentence]\n",
    "    sentence_list = [sentence for sentence in sentence_list if '.' in sentence]\n",
    "    article = ''.join(sentence_list)\n",
    "    from gensim.summarization import summarize\n",
    "    summary = summarize(article, ratio = 0.15)\n",
    "    doc = docx.Document()\n",
    "    doc.add_heading(header)\n",
    "    doc.add_picture('bbc.png')\n",
    "    doc.add_paragraph(time)\n",
    "    doc.add_paragraph(article)\n",
    "    doc.add_heading(header2)\n",
    "    doc.add_paragraph(summary)\n",
    "    doc.save('Asssignment.doc')\n",
    "scrapper('url')"
   ]
  },
  {
   "cell_type": "code",
   "execution_count": null,
   "metadata": {},
   "outputs": [],
   "source": []
  }
 ],
 "metadata": {
  "kernelspec": {
   "display_name": "Python 3",
   "language": "python",
   "name": "python3"
  },
  "language_info": {
   "codemirror_mode": {
    "name": "ipython",
    "version": 3
   },
   "file_extension": ".py",
   "mimetype": "text/x-python",
   "name": "python",
   "nbconvert_exporter": "python",
   "pygments_lexer": "ipython3",
   "version": "3.8.5"
  }
 },
 "nbformat": 4,
 "nbformat_minor": 4
}
