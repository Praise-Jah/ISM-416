{
 "cells": [
  {
   "cell_type": "code",
   "execution_count": 1,
   "metadata": {},
   "outputs": [
    {
     "name": "stderr",
     "output_type": "stream",
     "text": [
      "/opt/anaconda3/lib/python3.8/site-packages/gensim/similarities/__init__.py:15: UserWarning: The gensim.similarities.levenshtein submodule is disabled, because the optional Levenshtein package <https://pypi.org/project/python-Levenshtein/> is unavailable. Install Levenhstein (e.g. `pip install python-Levenshtein`) to suppress this warning.\n",
      "  warnings.warn(msg)\n"
     ]
    }
   ],
   "source": [
    "import requests\n",
    "from bs4 import BeautifulSoup\n",
    "import gensim"
   ]
  },
  {
   "cell_type": "code",
   "execution_count": 7,
   "metadata": {},
   "outputs": [],
   "source": [
    "url = 'https://www.bbc.com/news/world-europe-56912668'"
   ]
  },
  {
   "cell_type": "code",
   "execution_count": 8,
   "metadata": {},
   "outputs": [],
   "source": [
    "page = requests.get(url).text"
   ]
  },
  {
   "cell_type": "code",
   "execution_count": 9,
   "metadata": {},
   "outputs": [],
   "source": [
    "soup = BeautifulSoup(page)"
   ]
  },
  {
   "cell_type": "code",
   "execution_count": 18,
   "metadata": {},
   "outputs": [],
   "source": [
    "header = soup.find('h1').get_text()"
   ]
  },
  {
   "cell_type": "code",
   "execution_count": 19,
   "metadata": {},
   "outputs": [],
   "source": [
    "time = soup.find('time', attrs={'data-testid':'timestamp'}).get_text()"
   ]
  },
  {
   "cell_type": "code",
   "execution_count": 20,
   "metadata": {},
   "outputs": [
    {
     "data": {
      "text/plain": [
       "'12 hours ago'"
      ]
     },
     "execution_count": 20,
     "metadata": {},
     "output_type": "execute_result"
    }
   ],
   "source": [
    "time"
   ]
  },
  {
   "cell_type": "code",
   "execution_count": 21,
   "metadata": {},
   "outputs": [],
   "source": [
    "p_tags = soup.find_all('p')"
   ]
  },
  {
   "cell_type": "code",
   "execution_count": 22,
   "metadata": {},
   "outputs": [],
   "source": [
    "text = [tags.get_text() for tags in p_tags]"
   ]
  },
  {
   "cell_type": "code",
   "execution_count": 23,
   "metadata": {},
   "outputs": [
    {
     "name": "stdout",
     "output_type": "stream",
     "text": [
      "['By Mahmut HamsiciBBC Turkish, Istanbul', 'The streets are crowded, the shopping centres busy and the traffic heavy.', 'Some flock to the main bus terminal to get out of Istanbul, while others are trying to stockpile alcohol amid news of a \"booze ban\". ', 'This is the mood as Turkey prepares later on Thursday to enter its first full lockdown of the pandemic, to curb a surge in infections and deaths.', 'WhatsApp groups are now dominated by messages about how life will be in the coming days.', 'This time last year, Turkey was seen as a success story for its early combative action and was even praised by the WHO. ', 'One year on, it is among the countries worst affected by Covid, with the highest infection rate in Europe.', \"Ankara is still proud of its relatively low total number of deaths, at around 39,000, and authorities say the pandemic is still under control, thanks to the country's strong healthcare system. But the spike in the number of cases is worrying.\", 'Following a second period of restrictions starting last November, the number of daily cases fell to around 6,000 at one point in mid-February.', 'But as soon as the government started to ease the restrictions in March, a new wave struck Turkey.', 'The government then U-turned to re-impose restrictions at the beginning of April. However, that was not enough to curb the spread of infections.', 'At its height in April, there were more than 60,000 new cases a day and more than 300 deaths.', 'According to critics, the government lifted restrictions too early and the vaccination process has not been fast enough.', 'More than 22 million people have been vaccinated so far in this country of 82 million.', 'Turkey mainly uses the Chinese Sinovac vaccine, as well as lower numbers of Pfizer-Biontech.', 'Health Minister Fahrettin Koca said recently: \"We have sped up vaccine diplomacy for the injections including Sinovac, Pfizer-Biontech and (Russia\\'s) Sputnik V\".', \"Another criticism was that President Recep Tayyip Erdogan's ruling AK Party organised packed congresses in March while many social gatherings, public protests were banned.\", 'Scientists also say the new variants, especially the UK (Kent) strain, have accelerated the infection rate.', 'Whatever the reason for the new wave, Mr Erdogan has finally announced a full lockdown effective from 19:00 (16:00GMT) on Thursday until 17 May.', 'Many experts are happy with the new lockdown as they say it is necessary. ', 'However, some argue that the lockdown will not last long enough to combat the rise in cases and that it may not be very effective if it is not supported by a faster vaccination programme. Any measures should also provide economic support for low-income people, they believe.', 'Across Turkish society there is a determination to see the back of this most recent wave, and the government has a clear target.', 'President Erdogan has said: \"At a time when Europe is entering a phase of reopening, we must rapidly reduce our number of cases to fewer than 5,000, not to be left behind\".', 'The measures last throughout the rest of Ramadan and the Eid festival that follows it.', 'Last year Turkey saw a 70% fall in foreign visitors. The tourist industry hopes the lockdown will help enable a reopening in time for the summer season.', 'How will your work be affected by the lockdown in Turkey? Tell us by emailing: haveyoursay@bbc.co.uk.', 'Please include a contact number if you are willing to speak to a BBC journalist. You can also get in touch in the following ways:', \"If you are reading this page and can't see the form you will need to visit the mobile version of the BBC website to submit your question or comment or you can email us at HaveYourSay@bbc.co.uk. Please include your name, age and location with any submission. \", \"2020 and me: 'I know the value of family more'\", \"Biden pitches 'once in a generation' spending plan\", 'The president lays out jobs, education and social care plans in a televised address to Congress.', 'Deadly Covid wave rips through small-town India', 'Turkey prepares for its first full Covid lockdown', 'Deadly Covid wave rips through small-town India', \"Biden's first 100 days - in six charts\", 'Sikh temple offers drive-through oxygen to Covid patients. VideoSikh temple offers drive-through oxygen to Covid patients', 'They are killing our forest, Brazilian tribe warns', 'He left his brain behind to save others from his fate', \"Kate and William's decade of marriage in pictures\", \"The 'forgotten' refugees taking their lives\", \"Searching for the 'angel' who saved my life. VideoSearching for the 'angel' who saved my life\", 'BBC Culture: Is rewatching old TV good for you?', 'Lyrics quiz', 'Have you been getting these songs wrong?', 'Feeling hot', 'What happens to your body in extreme heat?', \"Man behind 'Spanish laughing guy' meme dies1\", \"Furore over Russian draughts player's flag removal2\", \"Biden pitches 'once in a generation' spending plan3\", \"Kate and William's decade of marriage in pictures4\", 'Turkey prepares for its first full Covid lockdown5', 'Deadly Covid wave rips through small-town India6', 'Kodak Black pleads guilty to assault and battery7', 'Giant gold Â£10,000 coin weighs 22lb8', 'Seven Biden claims fact-checked9', \"NRA chief's elephant shooting video sparks outrage10\", 'Â© 2021 BBC. The BBC is not responsible for the content of external sites. Read about our approach to external linking.']\n"
     ]
    }
   ],
   "source": [
    "print(text)"
   ]
  },
  {
   "cell_type": "code",
   "execution_count": 24,
   "metadata": {},
   "outputs": [],
   "source": [
    "sentence_list = [sentence for sentence in text if not '\\n' in sentence]"
   ]
  },
  {
   "cell_type": "code",
   "execution_count": 25,
   "metadata": {},
   "outputs": [],
   "source": [
    "sentence_list = [sentence for sentence in sentence_list if '.' in sentence]"
   ]
  },
  {
   "cell_type": "code",
   "execution_count": 26,
   "metadata": {},
   "outputs": [],
   "source": [
    "article = ''.join(sentence_list)"
   ]
  },
  {
   "cell_type": "code",
   "execution_count": 27,
   "metadata": {},
   "outputs": [],
   "source": [
    "import docx"
   ]
  },
  {
   "cell_type": "code",
   "execution_count": 28,
   "metadata": {},
   "outputs": [],
   "source": [
    "doc = docx.Document()"
   ]
  },
  {
   "cell_type": "code",
   "execution_count": 29,
   "metadata": {},
   "outputs": [
    {
     "data": {
      "text/plain": [
       "<docx.text.paragraph.Paragraph at 0x121973130>"
      ]
     },
     "execution_count": 29,
     "metadata": {},
     "output_type": "execute_result"
    }
   ],
   "source": [
    "doc.add_heading(header)"
   ]
  },
  {
   "cell_type": "code",
   "execution_count": 30,
   "metadata": {},
   "outputs": [
    {
     "data": {
      "text/plain": [
       "<docx.shape.InlineShape at 0x120f01430>"
      ]
     },
     "execution_count": 30,
     "metadata": {},
     "output_type": "execute_result"
    }
   ],
   "source": [
    "doc.add_picture('pau.png')"
   ]
  },
  {
   "cell_type": "code",
   "execution_count": 31,
   "metadata": {},
   "outputs": [
    {
     "data": {
      "text/plain": [
       "<docx.text.paragraph.Paragraph at 0x121a1e340>"
      ]
     },
     "execution_count": 31,
     "metadata": {},
     "output_type": "execute_result"
    }
   ],
   "source": [
    "doc.add_paragraph(time)"
   ]
  },
  {
   "cell_type": "code",
   "execution_count": 32,
   "metadata": {},
   "outputs": [
    {
     "data": {
      "text/plain": [
       "<docx.text.paragraph.Paragraph at 0x121a1e460>"
      ]
     },
     "execution_count": 32,
     "metadata": {},
     "output_type": "execute_result"
    }
   ],
   "source": [
    "doc.add_paragraph(article)"
   ]
  },
  {
   "cell_type": "code",
   "execution_count": 33,
   "metadata": {},
   "outputs": [],
   "source": [
    "#To save the document\n",
    "\n",
    "doc.save('document1.doc')"
   ]
  },
  {
   "cell_type": "code",
   "execution_count": null,
   "metadata": {},
   "outputs": [],
   "source": []
  }
 ],
 "metadata": {
  "kernelspec": {
   "display_name": "Python 3",
   "language": "python",
   "name": "python3"
  },
  "language_info": {
   "codemirror_mode": {
    "name": "ipython",
    "version": 3
   },
   "file_extension": ".py",
   "mimetype": "text/x-python",
   "name": "python",
   "nbconvert_exporter": "python",
   "pygments_lexer": "ipython3",
   "version": "3.8.5"
  }
 },
 "nbformat": 4,
 "nbformat_minor": 4
}
