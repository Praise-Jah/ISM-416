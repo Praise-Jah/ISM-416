{
 "cells": [
  {
   "cell_type": "markdown",
   "metadata": {},
   "source": [
    "## import important libraries"
   ]
  },
  {
   "cell_type": "code",
   "execution_count": 40,
   "metadata": {},
   "outputs": [],
   "source": [
    "import requests\n",
    "from bs4 import BeautifulSoup\n",
    "import gensim"
   ]
  },
  {
   "cell_type": "code",
   "execution_count": 41,
   "metadata": {},
   "outputs": [],
   "source": [
    "url = 'https://www.npr.org/2021/04/28/991683886/frightened-to-death-cheerleader-speech-case-gives-supreme-court-pause'"
   ]
  },
  {
   "cell_type": "code",
   "execution_count": 42,
   "metadata": {},
   "outputs": [],
   "source": [
    "page = requests.get(url).text"
   ]
  },
  {
   "cell_type": "code",
   "execution_count": 43,
   "metadata": {},
   "outputs": [],
   "source": [
    "soup = BeautifulSoup(page)"
   ]
  },
  {
   "cell_type": "code",
   "execution_count": 44,
   "metadata": {},
   "outputs": [
    {
     "data": {
      "text/plain": [
       "\"'Frightened To Death': Cheerleader Speech Case Gives Supreme Court Pause\""
      ]
     },
     "execution_count": 44,
     "metadata": {},
     "output_type": "execute_result"
    }
   ],
   "source": [
    "soup.find('h1').get_text()"
   ]
  },
  {
   "cell_type": "code",
   "execution_count": 45,
   "metadata": {},
   "outputs": [
    {
     "data": {
      "text/plain": [
       "<span class=\"date\">April 28, 2021</span>"
      ]
     },
     "execution_count": 45,
     "metadata": {},
     "output_type": "execute_result"
    }
   ],
   "source": [
    "soup.find('span', attrs={'class':'date'})"
   ]
  },
  {
   "cell_type": "code",
   "execution_count": 46,
   "metadata": {},
   "outputs": [],
   "source": [
    "header = soup.find('h1').get_text()"
   ]
  },
  {
   "cell_type": "code",
   "execution_count": 47,
   "metadata": {},
   "outputs": [],
   "source": [
    "date = soup.find('span', attrs={'class':'date'}).text"
   ]
  },
  {
   "cell_type": "code",
   "execution_count": 48,
   "metadata": {},
   "outputs": [],
   "source": [
    "p_tags = soup.find_all('p')"
   ]
  },
  {
   "cell_type": "code",
   "execution_count": 49,
   "metadata": {},
   "outputs": [],
   "source": [
    "text = [tags for tags in p_tags]"
   ]
  },
  {
   "cell_type": "code",
   "execution_count": 50,
   "metadata": {},
   "outputs": [],
   "source": [
    "text = [tags.get_text() for tags in p_tags]"
   ]
  },
  {
   "cell_type": "code",
   "execution_count": 51,
   "metadata": {},
   "outputs": [
    {
     "name": "stdout",
     "output_type": "stream",
     "text": [
      "['\\n\\n      Nina Totenberg\\n    \\n', '\\n                Brandi Levy wears her former cheerleading outfit as she looks at her mobile phone while sitting outside Mahanoy Area High School in Mahanoy City, Pa., on April 4.\\n                \\n                \\n                    \\n                    Danna Singer/ACLU / AP\\n                    \\n                \\nhide caption\\n', 'Brandi Levy wears her former cheerleading outfit as she looks at her mobile phone while sitting outside Mahanoy Area High School in Mahanoy City, Pa., on April 4.', 'Facing its biggest student speech case in a half century, the Supreme Court seemed to be looking for a narrow exit door on Wednesday.', 'At issue was whether schools may punish students for speech that occurs online and off campus but may affect school order.', 'The case has been billed as the most important student speech case since 1969. That landmark ruling came at the height of the Vietnam War. Mary Beth Tinker and four other students went to court after they were suspended for wearing black armbands to school to protest the war.', 'By a vote of 7-to-2 the high court ruled at the time for the first time that kids do have First Amendment free speech rights at school, unless school officials reasonably forecast it will cause disruptions.', \"Wednesday's case did not involve such serious speech. It was brought by Brandi Levy, a 14-year-old high school cheerleader, who failed to win a promotion from the junior varsity cheer team to the varsity.\", '\"I was really upset and frustrated at everything,\" Levy explained in an NPR interview. So, that weekend, she posted a photo of herself and a friend flipping the bird to the camera, with the caption \"F*** school F*** softball, F*** cheer, F*** everything.\"', \"Brandi's post hit school like a small town, social media bomb; the school deemed the post disruptive to cheerleader morale and suspended her from the team for the rest of the year. The ACLU took her case to court, claiming that her free speech rights had been violated. And on Wednesday, the Supreme Court faced a question that did not exist in 1969: Can schools punish students for their online but off campus speech?\", 'Justice Stephen Breyer got to the heart of the matter quickly, wondering whether online swearing off-campus should even qualify for school punishment. \"If swearing off-campus did [qualify], my goodness, every school in the country would be doing nothing but punishing.\" he said.', 'Justice Sonia Sotomayor chimed in. \"I\\'m told by my law clerks that ... among a certain large percentage of the population, how much you curse is a badge of honor,\" she said. \"Kids basically talk to classmates, most of their exchanges have to do with their perceptions of the authoritarian nature of their teachers and others.\"', 'Justice Brett Kavanaugh, who coaches his daughters\\' sports teams, seemed to understand Brandi\\'s frustration, acknowledging that even NBA legend Michael Jordan had sore feelings 30 years after not making the varsity team in high school. As to this case, said Kavanaugh, \"It didn\\'t seem like the punishment was tailored to the offense. But how does that fit into the First Amendment Doctrine? or does it at all?\"', 'The argument illustrated just how hard that question is. Siding with the Mahanoy school district in the case, the Justice Department argued that schools could regulate off-campus speech only if it is related to school matters and could cause a \"substantial disruption.\"', '\"That means really everything that mentions a school at all is school speech, right?\" asked a skeptical Justice Elena Kagan. Deputy Solicitor General Malcolm Stewart tried to offer a nuanced distinction, but Kagan was having none of it. Cutting right to the question of which speech is punishable, she asked, \"Can I give you a few hypotheticals, and you just tell me school speech or not school speech?\"', '\"The student e-mails his classmates the answer to the geometry homework every day after school?\"', '\"Student emails his classmates that they should all skip school tomorrow for an impromptu senior skip day?\"', '\"Student emails that they should refuse to do any work for English class until the teacher changes the syllabus to include more authors of color?\"', '\"Student tweets that there\\'s pervasive homophobia at his school and that prospective gay students should stay away?\"', 'Each of these, conceded Stewart, would be considered school speech under the standard proposed by the Justice Department. In other words, all of these messages sent from off-campus might well be punishable school speech.', \"But the ACLU's David Cole, representing Brandi Levy, said that once schools can discipline students for off campus speech, that would dramatically expand the disciplinary reach of schools set out by the court in the Tinker case in 1969.\", '\"Expanding Tinker would transform a limited exception into a 24/7 rule that would upend the First Amendment\\'s bedrock principle,\" argued Cole, \"and would require students to effectively carry the schoolhouse on their backs in terms of speech rights everywhere they go.\"', 'But, the justices wanted to know, what about cases of harassment and bullying? After all some 47 states require enforcement of anti-bullying laws.', 'Justice Kagan posited an off campus website set up by high school boys to rank their female classmates appearance and sexual availability. All of the justices probed repeatedly for workable standard to adopt — a rule that would guide schools as to how to handle these tricky questions.', 'The ACLU\\'s Cole said student speech should be protected online. \"Outside of school, the priority is not to give the school discretion to regulate kids\\' speech,\" he said.', 'But the school district\\'s lawyer, Lisa Blatt said that standard would be a \"nightmare.\" It would, she said, mean \"open season\" on schools and produce \"chaos\" in the lower courts. \"I guarantee you...the courts are gonna freak out,\" she said.', 'But from conservative to liberal, the justices were looking to do as little damage as possible. Admitted Justice Breyer, \"I\\'m frightened to death of writing a standard.\"', 'NPR thanks our sponsors', 'Become an NPR sponsor']\n"
     ]
    }
   ],
   "source": [
    "print(text)"
   ]
  },
  {
   "cell_type": "code",
   "execution_count": 52,
   "metadata": {},
   "outputs": [],
   "source": [
    "sentence_list = [sentence for sentence in text if not '\\n' in sentence]"
   ]
  },
  {
   "cell_type": "code",
   "execution_count": 53,
   "metadata": {},
   "outputs": [],
   "source": [
    "sentence_list = [sentence for sentence in sentence_list if '.' in sentence]"
   ]
  },
  {
   "cell_type": "code",
   "execution_count": 54,
   "metadata": {},
   "outputs": [],
   "source": [
    "article = ''.join(sentence_list)"
   ]
  },
  {
   "cell_type": "code",
   "execution_count": 55,
   "metadata": {},
   "outputs": [],
   "source": [
    "import docx"
   ]
  },
  {
   "cell_type": "code",
   "execution_count": 56,
   "metadata": {},
   "outputs": [],
   "source": [
    "doc = docx.Document()"
   ]
  },
  {
   "cell_type": "code",
   "execution_count": 57,
   "metadata": {},
   "outputs": [
    {
     "data": {
      "text/plain": [
       "<docx.text.paragraph.Paragraph at 0x1195ab8b0>"
      ]
     },
     "execution_count": 57,
     "metadata": {},
     "output_type": "execute_result"
    }
   ],
   "source": [
    "doc.add_heading(header)"
   ]
  },
  {
   "cell_type": "code",
   "execution_count": 58,
   "metadata": {},
   "outputs": [
    {
     "data": {
      "text/plain": [
       "<docx.shape.InlineShape at 0x1195ab910>"
      ]
     },
     "execution_count": 58,
     "metadata": {},
     "output_type": "execute_result"
    }
   ],
   "source": [
    "doc.add_picture('img.png')"
   ]
  },
  {
   "cell_type": "code",
   "execution_count": 59,
   "metadata": {},
   "outputs": [
    {
     "data": {
      "text/plain": [
       "<docx.text.paragraph.Paragraph at 0x1195cba00>"
      ]
     },
     "execution_count": 59,
     "metadata": {},
     "output_type": "execute_result"
    }
   ],
   "source": [
    "doc.add_paragraph(date)"
   ]
  },
  {
   "cell_type": "code",
   "execution_count": 60,
   "metadata": {},
   "outputs": [
    {
     "data": {
      "text/plain": [
       "<docx.text.paragraph.Paragraph at 0x1195ab0a0>"
      ]
     },
     "execution_count": 60,
     "metadata": {},
     "output_type": "execute_result"
    }
   ],
   "source": [
    "doc.add_paragraph(article)"
   ]
  },
  {
   "cell_type": "code",
   "execution_count": 61,
   "metadata": {},
   "outputs": [],
   "source": [
    "#To save the document\n",
    "\n",
    "doc.save('document.doc')"
   ]
  },
  {
   "cell_type": "code",
   "execution_count": 63,
   "metadata": {},
   "outputs": [],
   "source": [
    "url = 'https://www.npr.org/2021/04/28/991683886/frightened-to-death-cheerleader-speech-case-gives-supreme-court-pause'"
   ]
  },
  {
   "cell_type": "code",
   "execution_count": 64,
   "metadata": {},
   "outputs": [
    {
     "name": "stdout",
     "output_type": "stream",
     "text": [
      "Collecting package metadata (current_repodata.json): done\n",
      "Solving environment: done\n",
      "\n",
      "# All requested packages already installed.\n",
      "\n",
      "\n",
      "Note: you may need to restart the kernel to use updated packages.\n"
     ]
    }
   ],
   "source": [
    "conda install -c conda-forge gensim"
   ]
  },
  {
   "cell_type": "code",
   "execution_count": 65,
   "metadata": {},
   "outputs": [
    {
     "ename": "ImportError",
     "evalue": "cannot import name 'has_pattern' from 'gensim.utils' (/opt/anaconda3/lib/python3.8/site-packages/gensim/utils.py)",
     "output_type": "error",
     "traceback": [
      "\u001b[0;31m---------------------------------------------------------------------------\u001b[0m",
      "\u001b[0;31mImportError\u001b[0m                               Traceback (most recent call last)",
      "\u001b[0;32m<ipython-input-65-97f4c75239a4>\u001b[0m in \u001b[0;36m<module>\u001b[0;34m\u001b[0m\n\u001b[0;32m----> 1\u001b[0;31m \u001b[0;32mfrom\u001b[0m \u001b[0mgensim\u001b[0m\u001b[0;34m.\u001b[0m\u001b[0msummarization\u001b[0m \u001b[0;32mimport\u001b[0m \u001b[0msummarize\u001b[0m\u001b[0;34m\u001b[0m\u001b[0;34m\u001b[0m\u001b[0m\n\u001b[0m",
      "\u001b[0;32m/opt/anaconda3/lib/python3.8/site-packages/gensim/summarization/__init__.py\u001b[0m in \u001b[0;36m<module>\u001b[0;34m\u001b[0m\n\u001b[1;32m      1\u001b[0m \u001b[0;34m\u001b[0m\u001b[0m\n\u001b[1;32m      2\u001b[0m \u001b[0;31m# bring model classes directly into package namespace, to save some typing\u001b[0m\u001b[0;34m\u001b[0m\u001b[0;34m\u001b[0m\u001b[0;34m\u001b[0m\u001b[0m\n\u001b[0;32m----> 3\u001b[0;31m \u001b[0;32mfrom\u001b[0m \u001b[0;34m.\u001b[0m\u001b[0msummarizer\u001b[0m \u001b[0;32mimport\u001b[0m \u001b[0msummarize\u001b[0m\u001b[0;34m,\u001b[0m \u001b[0msummarize_corpus\u001b[0m  \u001b[0;31m# noqa:F401\u001b[0m\u001b[0;34m\u001b[0m\u001b[0;34m\u001b[0m\u001b[0m\n\u001b[0m\u001b[1;32m      4\u001b[0m \u001b[0;32mfrom\u001b[0m \u001b[0;34m.\u001b[0m\u001b[0mkeywords\u001b[0m \u001b[0;32mimport\u001b[0m \u001b[0mkeywords\u001b[0m  \u001b[0;31m# noqa:F401\u001b[0m\u001b[0;34m\u001b[0m\u001b[0;34m\u001b[0m\u001b[0m\n\u001b[1;32m      5\u001b[0m \u001b[0;32mfrom\u001b[0m \u001b[0;34m.\u001b[0m\u001b[0mmz_entropy\u001b[0m \u001b[0;32mimport\u001b[0m \u001b[0mmz_keywords\u001b[0m  \u001b[0;31m# noqa:F401\u001b[0m\u001b[0;34m\u001b[0m\u001b[0;34m\u001b[0m\u001b[0m\n",
      "\u001b[0;32m/opt/anaconda3/lib/python3.8/site-packages/gensim/summarization/summarizer.py\u001b[0m in \u001b[0;36m<module>\u001b[0;34m\u001b[0m\n\u001b[1;32m     56\u001b[0m \u001b[0;32mfrom\u001b[0m \u001b[0mgensim\u001b[0m\u001b[0;34m.\u001b[0m\u001b[0mutils\u001b[0m \u001b[0;32mimport\u001b[0m \u001b[0mdeprecated\u001b[0m\u001b[0;34m\u001b[0m\u001b[0;34m\u001b[0m\u001b[0m\n\u001b[1;32m     57\u001b[0m \u001b[0;32mfrom\u001b[0m \u001b[0mgensim\u001b[0m\u001b[0;34m.\u001b[0m\u001b[0msummarization\u001b[0m\u001b[0;34m.\u001b[0m\u001b[0mpagerank_weighted\u001b[0m \u001b[0;32mimport\u001b[0m \u001b[0mpagerank_weighted\u001b[0m \u001b[0;32mas\u001b[0m \u001b[0m_pagerank\u001b[0m\u001b[0;34m\u001b[0m\u001b[0;34m\u001b[0m\u001b[0m\n\u001b[0;32m---> 58\u001b[0;31m \u001b[0;32mfrom\u001b[0m \u001b[0mgensim\u001b[0m\u001b[0;34m.\u001b[0m\u001b[0msummarization\u001b[0m\u001b[0;34m.\u001b[0m\u001b[0mtextcleaner\u001b[0m \u001b[0;32mimport\u001b[0m \u001b[0mclean_text_by_sentences\u001b[0m \u001b[0;32mas\u001b[0m \u001b[0m_clean_text_by_sentences\u001b[0m\u001b[0;34m\u001b[0m\u001b[0;34m\u001b[0m\u001b[0m\n\u001b[0m\u001b[1;32m     59\u001b[0m \u001b[0;32mfrom\u001b[0m \u001b[0mgensim\u001b[0m\u001b[0;34m.\u001b[0m\u001b[0msummarization\u001b[0m\u001b[0;34m.\u001b[0m\u001b[0mcommons\u001b[0m \u001b[0;32mimport\u001b[0m \u001b[0mbuild_graph\u001b[0m \u001b[0;32mas\u001b[0m \u001b[0m_build_graph\u001b[0m\u001b[0;34m\u001b[0m\u001b[0;34m\u001b[0m\u001b[0m\n\u001b[1;32m     60\u001b[0m \u001b[0;32mfrom\u001b[0m \u001b[0mgensim\u001b[0m\u001b[0;34m.\u001b[0m\u001b[0msummarization\u001b[0m\u001b[0;34m.\u001b[0m\u001b[0mcommons\u001b[0m \u001b[0;32mimport\u001b[0m \u001b[0mremove_unreachable_nodes\u001b[0m \u001b[0;32mas\u001b[0m \u001b[0m_remove_unreachable_nodes\u001b[0m\u001b[0;34m\u001b[0m\u001b[0;34m\u001b[0m\u001b[0m\n",
      "\u001b[0;32m/opt/anaconda3/lib/python3.8/site-packages/gensim/summarization/textcleaner.py\u001b[0m in \u001b[0;36m<module>\u001b[0;34m\u001b[0m\n\u001b[1;32m     23\u001b[0m \u001b[0;32mfrom\u001b[0m \u001b[0mgensim\u001b[0m\u001b[0;34m.\u001b[0m\u001b[0msummarization\u001b[0m\u001b[0;34m.\u001b[0m\u001b[0msyntactic_unit\u001b[0m \u001b[0;32mimport\u001b[0m \u001b[0mSyntacticUnit\u001b[0m\u001b[0;34m\u001b[0m\u001b[0;34m\u001b[0m\u001b[0m\n\u001b[1;32m     24\u001b[0m \u001b[0;32mfrom\u001b[0m \u001b[0mgensim\u001b[0m\u001b[0;34m.\u001b[0m\u001b[0mparsing\u001b[0m\u001b[0;34m.\u001b[0m\u001b[0mpreprocessing\u001b[0m \u001b[0;32mimport\u001b[0m \u001b[0mpreprocess_documents\u001b[0m\u001b[0;34m\u001b[0m\u001b[0;34m\u001b[0m\u001b[0m\n\u001b[0;32m---> 25\u001b[0;31m \u001b[0;32mfrom\u001b[0m \u001b[0mgensim\u001b[0m\u001b[0;34m.\u001b[0m\u001b[0mutils\u001b[0m \u001b[0;32mimport\u001b[0m \u001b[0mtokenize\u001b[0m\u001b[0;34m,\u001b[0m \u001b[0mhas_pattern\u001b[0m\u001b[0;34m\u001b[0m\u001b[0;34m\u001b[0m\u001b[0m\n\u001b[0m\u001b[1;32m     26\u001b[0m \u001b[0;32mfrom\u001b[0m \u001b[0msix\u001b[0m\u001b[0;34m.\u001b[0m\u001b[0mmoves\u001b[0m \u001b[0;32mimport\u001b[0m \u001b[0mrange\u001b[0m\u001b[0;34m\u001b[0m\u001b[0;34m\u001b[0m\u001b[0m\n\u001b[1;32m     27\u001b[0m \u001b[0;32mimport\u001b[0m \u001b[0mre\u001b[0m\u001b[0;34m\u001b[0m\u001b[0;34m\u001b[0m\u001b[0m\n",
      "\u001b[0;31mImportError\u001b[0m: cannot import name 'has_pattern' from 'gensim.utils' (/opt/anaconda3/lib/python3.8/site-packages/gensim/utils.py)"
     ]
    }
   ],
   "source": [
    "from gensim.summarization import summarize"
   ]
  },
  {
   "cell_type": "code",
   "execution_count": null,
   "metadata": {},
   "outputs": [],
   "source": [
    "#Specify the ratio\n",
    "\n",
    "summary = summarize(article, ratio = 0.15)"
   ]
  },
  {
   "cell_type": "code",
   "execution_count": null,
   "metadata": {},
   "outputs": [],
   "source": [
    "d n= docx.Document()"
   ]
  },
  {
   "cell_type": "code",
   "execution_count": null,
   "metadata": {},
   "outputs": [],
   "source": [
    "\n"
   ]
  }
 ],
 "metadata": {
  "kernelspec": {
   "display_name": "Python 3",
   "language": "python",
   "name": "python3"
  },
  "language_info": {
   "codemirror_mode": {
    "name": "ipython",
    "version": 3
   },
   "file_extension": ".py",
   "mimetype": "text/x-python",
   "name": "python",
   "nbconvert_exporter": "python",
   "pygments_lexer": "ipython3",
   "version": "3.8.5"
  }
 },
 "nbformat": 4,
 "nbformat_minor": 4
}
