{
 "cells": [
  {
   "cell_type": "markdown",
   "metadata": {},
   "source": [
    "# Answer Question 5 and any other four questions."
   ]
  },
  {
   "cell_type": "markdown",
   "metadata": {},
   "source": [
    "<img src = 'unnamed.jpg'>"
   ]
  },
  {
   "cell_type": "markdown",
   "metadata": {},
   "source": [
    "### `Question 1`:  What is the difference between 're.findall()' and 're.search()' ? Show example using the Corpus"
   ]
  },
  {
   "cell_type": "markdown",
   "metadata": {},
   "source": [
    "Answer:\n",
    "\n",
    "re.findall is the single most powerful function module. It finds all the matches and returns them as strings with each of the strings representing one match.\n",
    "\n",
    "re.search takes a regular expression patternand searches for that pattern within the string. We also use it to find the first match for a pattern."
   ]
  },
  {
   "cell_type": "code",
   "execution_count": 65,
   "metadata": {},
   "outputs": [],
   "source": [
    "#Example using Corpus\n",
    "import re"
   ]
  },
  {
   "cell_type": "code",
   "execution_count": 66,
   "metadata": {},
   "outputs": [],
   "source": [
    "file = open ('fradulent_emails.txt', encoding = 'utf-8', errors = 'ignore').read()"
   ]
  },
  {
   "cell_type": "code",
   "execution_count": 70,
   "metadata": {},
   "outputs": [],
   "source": [
    "match = re.findall(\":Content-Type\",file)"
   ]
  },
  {
   "cell_type": "code",
   "execution_count": 71,
   "metadata": {},
   "outputs": [],
   "source": [
    "match = re.search (\"Date\",file)"
   ]
  },
  {
   "cell_type": "markdown",
   "metadata": {},
   "source": [
    "### `Question 2`: When is a search said to be `'greedy'` ? Implement using the corpus"
   ]
  },
  {
   "cell_type": "markdown",
   "metadata": {},
   "source": [
    "### `Question 3`: Explain the following pattern '\\d+\\s\\w+\\s\\d+', and what is it used for?"
   ]
  },
  {
   "cell_type": "markdown",
   "metadata": {},
   "source": [
    "\\w+ is for alpha numeric characters like a-z\n",
    "\\d+ is used for matching one or more digits like 0-9\n",
    "\\s is used for matching white space characters like tab\n",
    "\\S is used for matching non white characters\n",
    "\\d+' matching zero or one digits like 0-9"
   ]
  },
  {
   "cell_type": "markdown",
   "metadata": {},
   "source": [
    "###  `Question 4:` The phrase **`The burglar threatened the student with the knife`** is an example of what type of ambiguity? Explain"
   ]
  },
  {
   "cell_type": "markdown",
   "metadata": {},
   "source": [
    "### `Question 5`: Write a function to scrape, summarize and store the following article."
   ]
  },
  {
   "cell_type": "markdown",
   "metadata": {},
   "source": [
    "`https://www.bbc.com/news/world-africa-56993215`"
   ]
  },
  {
   "cell_type": "code",
   "execution_count": 64,
   "metadata": {},
   "outputs": [
    {
     "name": "stdout",
     "output_type": "stream",
     "text": [
      "['The Zulu monarchy in South Africa has been plunged into controversy following the death of King Goodwill Zwelithini and - weeks later - the regent.', 'It has led to a vicious power struggle for the throne - royals are fighting it out in court, hurling insults in public, and fuelling rumours of the poisoning of rivals.  ', \"The BBC's Pumza Fihlani in Johannesburg looks at some of the key players in the royal drama: \", 'Born on 14 July 1948, he was the eighth monarch of the Zulu nation. Before he could take over from his father in 1971, he was forced to go into hiding for three years following death threats.', 'Isilo Samabandla Onke, loosely translated as \"King of all Zulu kings\", as he was called, was a direct descendent of King Cetshwayo, the leader of the Zulu nation during the 1879 war against the British army.', 'To many, the father of 28 children from six wives embodied the honouring of time-held cultural practices. A feature of his reign was the revival of Umhlanga or Reed Dance in 1991. ', 'The ceremony, attended by many hundreds of young unmarried Zulu women, is meant to celebrate virginity but King Zwelithini said it was also there to promote HIV and Aids awareness in KwaZulu-Natal - a province with one of the highest HIV-infection rates in the country.', 'King Zwelithini died on 12 March in hospital where he was being treated for diabetes-related issues. He was the longest-serving Zulu monarch, having been on the throne for almost 50 years. ', 'After he was interred, his will was read out at a private gathering of the royal family. It is now at the centre of major dispute within the royal family, with some royals claiming that it had been forged.', 'According to the will, the king chose her as the regent of the 11-million-strong nation. ', \"Queen Dlamini-Zulu was to preside over the throne throughout the three months of mourning and was expected to announce the king's successor. But she died before doing so.\", \"She was the sister of Eswatini's King Mswati III, and married the Zulu monarch in 1977. \", 'As she came from royalty, Queen Dlamini-Zulu became the \"Great Wife\".  She had eight children with the late king. ', \"Unlike the king's other wives, her lobola, or bride price, of about 300 cattle was paid for by the Zulu nation, following a collection within communities. \", 'Historians say this cemented her senior status within the royal family. ', 'Her appointment as regent fuelled speculation that her eldest son, the US-educated 46-year-old Prince Misizulu, would be the next monarch, though the royal family has not confirmed this.', \"The 65-year-old died from an undisclosed illness just a month after taking over as regent and is being buried on Thursday. The queen's unexpected death on 29 April has left many questions unanswered and stirred rumours of a murder plot.\", 'Over the last few years she had been spending more time in Eswatini, apparently to attend to her health. ', 'On one occasion, King Zwelithini, explaining her absence to the Zulu nation, said she had been poisoned. ', '\"The king spoke before hundreds of people in December 2017, when we gathered for the [46th] anniversary celebration of his coronation. In front of all these people, His Majesty said: \\'Mnemtanenkosi has been poisoned. That is why she is not with us\\',\" recounted Zulu traditional prime minister Chief Mangosuthu Buthelezi in a statement earlier this week. ', 'No further details are available on the poisoning claims from 2017, but it is understood that she had been in and out of hospital since then. ', 'It is still unclear how she died. Chief Buthelezi said a post-mortem had been done to establish the cause of death, and its results were expected in a couple of weeks. ', '\"When I announced Her Majesty the regent\\'s passing, I spoke in isiZulu, explaining that doctors had not wanted to operate because of toxins in her liver. This required treatment with antibiotics in the hope of reducing the infection. Toxins are not the same thing as poison,\" he was quoted on Monday as saying, amid rumours that she had once again been poisoned. ', \"The first wife of King Zwelithini, she has launched a court bid for half of her late husband's vast estate, which includes several properties, and hectares of prime land across KwaZulu-Natal that the king was trustee of. \", 'It is unclear how much cash the king left behind. The KwaZulu-Natal government gives the royal household an annual sum of 71m rand ($5m; Â£3.5m) for its upkeep.', 'Queen Dlamini says that only she and the king were married in community of property. ', 'She wants the court to set aside his other five, traditional marriages, to prevent them from getting an equal share of the estate, to recognise her as the only legal wife, and to block the ascension to the throne of anyone who is not from her family. ', 'In fact, she says she holds the title of \"Great Wife\", or \"Udlunkulu\" in Zulu, as she was the king\\'s first wife married to him under civil law which does not allow or recognise polygamy.', 'In a court affidavit, Queen Dlamini also revealed that she was made to marry King Zwelithini under the ancient cultural practice of \"ukuthwala\" (abduction for marriage) at the age of 20. ', '\"In my case, I was brought to the home of the late Isilo through the custom of ukuthwala in order to marry the late Isilo so that in turn, he could take up the throne as the monarch of the Zulu nation,\" she said.', 'She alleges that the estate of the royal household belongs to her and her late husband in equal parts, and any attempt to dispose it \"as if it was the sole property of the late Isilo is legally incompetent and impermissible\".', \"Meanwhile, in a separate court case, two of Queen Dlamini's daughters are challenging the validity of their late father's will and allege they have reason to believe it was forged. They have thrown their weight behind Queen Dlamini's claim to the estate.\", \"For years there was speculation that the king would choose his eldest son, Prince Lethukuthula, as his heir. The prince was the son of the king's first wife.\", 'But the prince died in November in mysterious circumstances. Some in the monarchy believe his death may have been an attempt to prevent him from ascending to the throne but this has never been proven. ', 'Five suspects, four women aged between 27 and 42 and a 32-year-old man, were arrested in the capital, Pretoria, for the murder of the 50-year-old prince.', 'The investigation into his death is still ongoing and they have not yet been asked to plead. ', 'Initial reports allege that he and his business partner were drugged and robbed by the suspects who the prince was apparently entertaining at his home. ', 'The prince was later found dead, and the business partner was found sleeping in another room.', 'A palace spokesman was quoted at the time as saying that security could not be provided for all the king\\'s children as it would be too expensive and a \"nightmare\". ', \"Days after the king's death, his siblings, Prince Mbonisi and Princess Thembi, were accused of holding secret meetings of the royal court. They were apparently not in favour of the appointment of Queen Dlamini-Zulu as interim leader. \", 'News of the clandestine meetings have caused discomfort for some in the royal family who believe they would cause divisions. ', 'But the siblings have denied that their actions are sinister, saying they were discussing how to support the new regent and had intended to report back to the wider royal family. ', \"They have also distanced themselves from any involvement in the queen's death.  \", '\"People think we\\'re murderers,\" Princess Thembi told local media on Sunday, at an impromptu press conference amid the bitter family rift over who will become the next monarch. ', 'She added that they were \"not plotting to overthrow anyone\" and expressed hurt at the inference. ', \"Since King Zwelithini's death, Chief Buthelezi has been speaking on the developments within the royal family. \", \"He is seen as the late king's traditional prime minister and played a central role in announcing the death of the monarch and the regent, and keeping the public informed about funeral preparations. \", \"But his role has earned him the ire of some princes and princesses, who have accused him of silencing dissent, of being a dictator, and they dispute his claim that he was King Zwelithini's traditional prime minister, or chief adviser.  \", '\"His time [as traditional prime minister] ended long ago. The reason why he is still in that position is because we respect him,\" Princess Thembi was quoted as saying.', 'As for Chief Buthelezi, he dismissed the princess as \"an illegitimate child of my cousin, King Cyprian\", and described Prince Mbonisi as someone who the king used \"to run errands\".', '\"Perhaps most distressing of all is the claim that Her Majesty the Regent was somehow shoved down their throats. His Majesty the King appointed Her Majesty as Regent. If they have a quarrel, it is with the king himself,\" Chief Buthelezi was quoted by South Africa\\'s News24 website as saying. ', 'It is unclear how the leadership dispute will be resolved - and when the next king will be chosen. ', 'But there is enormous pressure on the royal family to let it happen peacefully and in a dignified way. ', 'The monarchy embodies centuries of tradition, and is revered by many Zulus.', 'Africa Today podcasts', 'US backs waiver on vaccine patents to boost supply', 'Supporters say the move would increase vaccine production but the pharmaceutical industry disagrees.', \"India Covid aid 'not reaching those in need'\", \"US vows to respond to 'irresponsible' Russian acts\", \"How a sulky Russian model became China's slacker icon\", \"What's the Jersey fishing row with France about?\", \"Safe Sweden faces up to wave of women's killings\", \"Doctor's diary: Families stranded in Pakistan and India\", \"'We are desperate to go travelling again'\", 'The trucker sharing wild landscapes for a cause. VideoThe trucker sharing wild landscapes for a cause', \"'I wake up every day thinking, what's next?' Video'I wake up every day thinking, what's next?'\", \"India is a Covid disaster - it didn't have to be\", \"Napoleon's incendiary legacy still divides France\", 'Lyrics quiz', 'Have you been getting these songs wrong?', 'Feeling hot', 'What happens to your body in extreme heat?', \"German 'dead fraudster' exposed by pet poodle1\", \"Madonna heartbroken by Nick Kamen's death2\", 'Jersey and French fishermen in talks amid protest3', \"Safe Sweden faces up to wave of women's killings4\", 'Malian woman gives birth to nine babies5', 'Australia ex-rugby star jailed over sex assault6', \"US vows to respond to 'irresponsible' Russian acts7\", 'Queen wishes great-grandson Archie happy birthday8', 'US backs waiver on vaccine patents to boost supply9', \"India Covid aid 'not reaching those in need'10\", 'Â© 2021 BBC. The BBC is not responsible for the content of external sites. Read about our approach to external linking.']\n"
     ]
    }
   ],
   "source": [
    "def scrapper (url):\n",
    "    import requests\n",
    "    from bs4 import BeautifulSoup\n",
    "    import gensim\n",
    "    import docx\n",
    "    url = 'https://www.bbc.com/news/world-africa-56993215'\n",
    "    page = requests.get(url).text\n",
    "    soup = BeautifulSoup(page)\n",
    "    header = soup.find('h1').get_text()\n",
    "    header2 = 'Summary'\n",
    "    time = soup.find('time', attrs={'data-testid':'timestamp'}).get_text()\n",
    "    time\n",
    "    p_tags = soup.find_all('p')\n",
    "    text = [tags.get_text() for tags in p_tags]\n",
    "    print(text)\n",
    "    sentence_list = [sentence for sentence in text if not '\\n' in sentence]\n",
    "    sentence_list = [sentence for sentence in sentence_list if '.' in sentence]\n",
    "    article = ''.join(sentence_list)\n",
    "    from gensim.summarization import summarize\n",
    "    summary = summarize(article, ratio = 0.20)\n",
    "    doc = docx.Document()\n",
    "    doc.add_heading(header)\n",
    "    doc.add_picture('bbc pic.png')\n",
    "    doc.add_paragraph(time)\n",
    "    doc.add_paragraph(article)\n",
    "    doc.add_heading(header2)\n",
    "    doc.add_paragraph(summary)\n",
    "    doc.save('First test.doc')\n",
    "scrapper('url')"
   ]
  },
  {
   "cell_type": "markdown",
   "metadata": {},
   "source": [
    "### `Question 6`: Was there any loss of vital informations as a result of summarizing the articles ? Explain"
   ]
  },
  {
   "cell_type": "markdown",
   "metadata": {},
   "source": [
    "From analyzing the summarized article, there was no tremendous loss of vital information. The summary however contains only the relevant information in that article. If one were to pick up only the summary to read, they will get the full gist of what that particular article is about without reading the full article."
   ]
  },
  {
   "cell_type": "markdown",
   "metadata": {},
   "source": [
    "### `Question 7`: What did you notice when you tried out different 'ratio' in the summarize function?"
   ]
  },
  {
   "cell_type": "markdown",
   "metadata": {},
   "source": [
    "When I tried the ratio 0.20, I noticed that the the article was summarized and that the information in the article was still included in the summary. The summary is notably short when compared to the main article.\n",
    "\n",
    "However, when I tried out a higher ratio, I noticed that the summarized article became longer and more information was added to the summarized article. For example, the article with the ratio 0.20 stopped at a certain place while the article with the ratio 0.30 added about two paragraphs to the summarized article. \n",
    "\n",
    "When I used ratio 0.60, I reqalized that the summarized article became longer than the article itself. Therefore, lesser ratios but not too less should be used when summarizing articles."
   ]
  },
  {
   "cell_type": "markdown",
   "metadata": {},
   "source": [
    ">>>>>>>>>>## Good Luck"
   ]
  }
 ],
 "metadata": {
  "kernelspec": {
   "display_name": "Python 3",
   "language": "python",
   "name": "python3"
  },
  "language_info": {
   "codemirror_mode": {
    "name": "ipython",
    "version": 3
   },
   "file_extension": ".py",
   "mimetype": "text/x-python",
   "name": "python",
   "nbconvert_exporter": "python",
   "pygments_lexer": "ipython3",
   "version": "3.8.5"
  }
 },
 "nbformat": 4,
 "nbformat_minor": 2
}
